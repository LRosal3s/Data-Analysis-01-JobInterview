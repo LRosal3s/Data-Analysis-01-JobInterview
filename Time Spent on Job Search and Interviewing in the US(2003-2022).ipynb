{
 "cells": [
  {
   "cell_type": "code",
   "execution_count": 1,
   "metadata": {},
   "outputs": [],
   "source": [
    "import pandas as pd\n",
    "import matplotlib.pyplot as plt"
   ]
  },
  {
   "cell_type": "code",
   "execution_count": 2,
   "metadata": {},
   "outputs": [],
   "source": [
    "weekdays = pd.read_excel('JI_Weekdays.xlsx')\n",
    "weekends = pd.read_excel('JI_Weekend.xlsx')"
   ]
  },
  {
   "cell_type": "code",
   "execution_count": 4,
   "metadata": {},
   "outputs": [],
   "source": [
    "merged_files = pd.merge(weekdays, weekends, on='Year', how='inner')\n",
    "df = pd.DataFrame(merged_files)"
   ]
  },
  {
   "cell_type": "code",
   "execution_count": 5,
   "metadata": {},
   "outputs": [
    {
     "data": {
      "text/html": [
       "<div>\n",
       "<style scoped>\n",
       "    .dataframe tbody tr th:only-of-type {\n",
       "        vertical-align: middle;\n",
       "    }\n",
       "\n",
       "    .dataframe tbody tr th {\n",
       "        vertical-align: top;\n",
       "    }\n",
       "\n",
       "    .dataframe thead th {\n",
       "        text-align: right;\n",
       "    }\n",
       "</style>\n",
       "<table border=\"1\" class=\"dataframe\">\n",
       "  <thead>\n",
       "    <tr style=\"text-align: right;\">\n",
       "      <th></th>\n",
       "      <th>Year</th>\n",
       "      <th>Estimate_x</th>\n",
       "      <th>Standard Error_x</th>\n",
       "      <th>Estimate_y</th>\n",
       "      <th>Standard Error_y</th>\n",
       "    </tr>\n",
       "  </thead>\n",
       "  <tbody>\n",
       "    <tr>\n",
       "      <th>0</th>\n",
       "      <td>2003</td>\n",
       "      <td>0.03</td>\n",
       "      <td>0.004</td>\n",
       "      <td>0.01</td>\n",
       "      <td>0.002</td>\n",
       "    </tr>\n",
       "    <tr>\n",
       "      <th>1</th>\n",
       "      <td>2004</td>\n",
       "      <td>0.03</td>\n",
       "      <td>0.004</td>\n",
       "      <td>0.01</td>\n",
       "      <td>0.001</td>\n",
       "    </tr>\n",
       "    <tr>\n",
       "      <th>2</th>\n",
       "      <td>2005</td>\n",
       "      <td>0.02</td>\n",
       "      <td>0.004</td>\n",
       "      <td>0.01</td>\n",
       "      <td>0.002</td>\n",
       "    </tr>\n",
       "  </tbody>\n",
       "</table>\n",
       "</div>"
      ],
      "text/plain": [
       "   Year  Estimate_x  Standard Error_x  Estimate_y  Standard Error_y\n",
       "0  2003        0.03             0.004        0.01             0.002\n",
       "1  2004        0.03             0.004        0.01             0.001\n",
       "2  2005        0.02             0.004        0.01             0.002"
      ]
     },
     "execution_count": 5,
     "metadata": {},
     "output_type": "execute_result"
    }
   ],
   "source": [
    "df.head(3)"
   ]
  },
  {
   "cell_type": "code",
   "execution_count": 47,
   "metadata": {},
   "outputs": [
    {
     "data": {
      "image/png": "[encoded data removed]",
      "text/plain": [
       "<Figure size 576x360 with 1 Axes>"
      ]
     },
     "metadata": {
      "needs_background": "light"
     },
     "output_type": "display_data"
    }
   ],
   "source": [
    "graph = df.plot(\n",
    "    x='Year', \n",
    "    y =['Estimate_x', 'Estimate_y'],\n",
    "    color =['#C72C41', '#1B9CFC'],\n",
    "    figsize = (8,5)\n",
    "    )\n",
    "\n",
    "\n",
    "\n",
    "plt.title(\"Time Spent on Job Search and Interviewing in the US(2003-2022)\")\n",
    "labels = ['Weekdays', 'Weekends']\n",
    "graph.legend(labels)\n",
    "graph.set_xticks(df['Year'])\n",
    "graph.set_xticklabels(df['Year'], rotation=35)\n",
    "graph.set_xlabel('Year')\n",
    "graph.set_ylabel('Hour')\n",
    "graph.grid(linewidth = 1.5, alpha = 0.20)\n",
    "\n",
    "\n",
    "plt.show()"
   ]
  },
  {
   "cell_type": "code",
   "execution_count": null,
   "metadata": {},
   "outputs": [],
   "source": []
  }
 ],
 "metadata": {
  "kernelspec": {
   "display_name": "Python 3",
   "language": "python",
   "name": "python3"
  },
  "language_info": {
   "codemirror_mode": {
    "name": "ipython",
    "version": 3
   },
   "file_extension": ".py",
   "mimetype": "text/x-python",
   "name": "python",
   "nbconvert_exporter": "python",
   "pygments_lexer": "ipython3",
   "version": "3.8.3"
  }
 },
 "nbformat": 4,
 "nbformat_minor": 4
}
